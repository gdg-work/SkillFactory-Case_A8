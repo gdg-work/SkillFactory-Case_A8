{
 "cells": [
  {
   "cell_type": "markdown",
   "metadata": {},
   "source": [
    "Исследование зависимости конверсии и платежей от выбранного уровня сложности\n",
    "============================================================================\n",
    "\n",
    "Краткие выводы для занятых\n",
    "---------------------------------------------\n",
    "\n",
    "Выбранный пользователем уровень сложности:\n",
    "\n",
    " - Очень тесно связан с конверсией;\n",
    " - Связан со временем, которое проходит от регистрации или выбора уровня до оплаты;\n",
    " - Слабо связан со средним чеком.\n",
    "\n",
    "\n",
    "Цель работы\n",
    "-----------\n",
    "\n",
    "### Гипотезы\n",
    "\n",
    "проверить два предположения:\n",
    "\n",
    "-   Зависит ли вероятность оплаты от выбранного пользователем уровня\n",
    "    сложности бесплатных тренировок?\n",
    "-   Существует ли разница во времени между выбором уровня сложности и\n",
    "    оплатой между пользователями, выбирающими разные уровни сложности?\n",
    "\n",
    "### Ограничения:\n",
    "\n",
    "-   Результат должен быть в Jupyter Notebook.\n",
    "-   Использовать данные пользователей, зарегистрированных в 2017 г.\n",
    "\n",
    "Поскольку работаем в Jupyter, и база не моя, нельзя использовать\n",
    "представления и временные таблицы. Буду выкручиваться через CTE.\n",
    "\n",
    "### Дополнительные условия\n",
    "\n",
    "В учебной базе объём данных не слишком серьёзный. Но при обработке\n",
    "данных из БД обычна ситуация, когда данных больше, чем может вместиться\n",
    "в памяти (особенно в памяти персонального компьютера). К счастью, все\n",
    "данные и не нужно тащить в память — у нас есть целая СУБД, которая\n",
    "сделает любые выборки, объединения и сортировки. Нужно только правильно\n",
    "ей пользоваться."
   ]
  },
  {
   "attachments": {
    "user_paths.svg": {
     "image/svg+xml": [
      "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"
     ]
    }
   },
   "cell_type": "markdown",
   "metadata": {},
   "source": [
    "Что мы уже знаем?\n",
    "-------------------------\n",
    "\n",
    "На рисунке ниже приведен результат исследования путей пользователей в приложении.\n",
    "\n",
    "![user_paths.svg](attachment:user_paths.svg)\n",
    "\n",
    "Числа в блоках: число уникальных пользователей, совершивших событие\n",
    "Числа на стрелках: число переходов пользователей непосредственно между блоками (здесь пользователи не обязательно уникальны)"
   ]
  },
  {
   "cell_type": "markdown",
   "metadata": {},
   "source": [
    "За работу!\n",
    "----------\n",
    "\n",
    "Импорт библиотек:"
   ]
  },
  {
   "cell_type": "code",
   "execution_count": 1,
   "metadata": {},
   "outputs": [],
   "source": [
    "    import pandas as pd\n",
    "    import psycopg2\n",
    "    import matplotlib.pyplot as plt\n",
    "    import seaborn as sns\n",
    "\n",
    "    sns.set()\n",
    "    sns.set_style(\"whitegrid\")"
   ]
  },
  {
   "cell_type": "markdown",
   "metadata": {},
   "source": [
    "Определение констант:\n",
    "\n",
    "Чтобы не хранить пароли в ГитХабе (порочная практика :) ), записал их в\n",
    "отдельные файлы и подключаю через импорт.  К сожалению, именно для сдачи\n",
    "работы на проверку такой вариант не подходит, пришлось вставить содержимое\n",
    "файла `SkillFactory_DB` прямо сюда."
   ]
  },
  {
   "cell_type": "code",
   "execution_count": 2,
   "metadata": {},
   "outputs": [],
   "source": [
    "    # constants\n",
    "    \n",
    "    # there are two modules with only constants defined: one for local DB\n",
    "    # and another for remote (SkillFactory) database. Only one has to be enabled\n",
    "    # in any given time\n",
    "    # ---\n",
    "    # from SkillFactory_DB import DB_NAME, DB_USER, DB_HOST, DB_PORT, DB_PASSWD\n",
    "    # from Local_DB        import DB_NAME, DB_USER, DB_HOST, DB_PORT, DB_PASSWD\n",
    "\n",
    "    # -- Для возможности проверки вставил содержимое 'SkillFactory_DB.py' сюда --\n",
    "    DB_NAME = 'skillfactory'\n",
    "    DB_USER = 'skillfactory'\n",
    "    DB_HOST = 'lms.skillfactory.ru'\n",
    "    DB_PORT = 5432\n",
    "    DB_PASSWD = 'cCkxxLVrDE8EbvjueeMedPKt'\n",
    "    # -- конец вставки --\n",
    "    \n",
    "    DB_CONNECT_STRING = \"dbname={0} host={1} port={2} user={3} password={4}\".format(\n",
    "        DB_NAME, DB_HOST, DB_PORT, DB_USER, DB_PASSWD\n",
    "    )"
   ]
  },
  {
   "cell_type": "markdown",
   "metadata": {},
   "source": [
    "Начальная и конечная даты для исследования. Первая включается в\n",
    "диапазон, вторая нет."
   ]
  },
  {
   "cell_type": "code",
   "execution_count": 3,
   "metadata": {},
   "outputs": [],
   "source": [
    "    START_DATE = '2017-01-01'   # this day will be included\n",
    "    END_DATE   = '2018-01-01'   # and this will be not"
   ]
  },
  {
   "cell_type": "markdown",
   "metadata": {},
   "source": [
    "Далее множество шаблонов для CTE и SQL запросов."
   ]
  },
  {
   "cell_type": "code",
   "execution_count": 4,
   "metadata": {},
   "outputs": [],
   "source": [
    "    # template for SQL expression: all users registered btw two dates list\n",
    "    ALL_USERS_TMPL = \"\"\"\\\n",
    "        SELECT DISTINCT user_id\n",
    "        FROM case8.events\n",
    "        WHERE event_type = 'registration'\n",
    "        AND start_time BETWEEN '{0}' AND '{1}'\n",
    "    \"\"\"\n",
    "\n",
    "    # Только покупатели\n",
    "    BUYERS_TMPL = \"\"\"\\\n",
    "        SELECT DISTINCT user_id\n",
    "        FROM case8.purchase\n",
    "        INTERSECT\n",
    "        SELECT DISTINCT user_id\n",
    "        FROM case8.events\n",
    "        WHERE event_type = 'registration'\n",
    "        AND start_time BETWEEN '{0}' AND '{1}'\n",
    "    \"\"\"\n",
    "\n",
    "    # Теперь выделим пользователей и покупателей заданного временного диапазона\n",
    "    USERS   = ALL_USERS_TMPL.format(START_DATE, END_DATE)\n",
    "    BUYERS  = BUYERS_TMPL.format(START_DATE, END_DATE)\n",
    "\n",
    "    # и запишем CTE для этих групп (Практически списков USER_ID - ов)\n",
    "    USERS17_CTE = \"\"\"users_2017 as (\n",
    "        {}\n",
    "    )\"\"\".format(USERS)\n",
    "\n",
    "    BUYERS17_CTE = \"\"\"buyers_2017 as (\n",
    "        {} \n",
    "    )\"\"\".format(BUYERS)\n",
    "\n",
    "    # Вместо представлений определим CTE для событий, производимых пользователями\n",
    "    # 2017 года регистрации, и их покупок\n",
    "    EVENTS17_CTE = \"\"\"events_2017 as (\n",
    "        select * from case8.events\n",
    "        inner join\n",
    "        users_2017\n",
    "        using (user_id)\n",
    "    )\"\"\"\n",
    "\n",
    "    PURCHASES17_CTE = \"\"\"purchases_2017 as (\n",
    "        select * from case8.purchase\n",
    "        inner join\n",
    "        users_2017\n",
    "        using (user_id)\n",
    "    )\"\"\""
   ]
  },
  {
   "cell_type": "markdown",
   "metadata": {},
   "source": [
    "Зависит ли вероятность оплаты от выбранного пользователем уровня сложности бесплатных тренировок?\n",
    "-------------------------------------------------------------------------------------------------"
   ]
  },
  {
   "cell_type": "markdown",
   "metadata": {},
   "source": [
    "Вооружившись таким набором констант, получим\n",
    "списки пользователей, выбирающих разные уровни сложности в приложении.\n",
    "Уровней у нас всего три: `hard`, `medium` и `easy`."
   ]
  },
  {
   "cell_type": "markdown",
   "metadata": {},
   "source": [
    "Определю функцию, которая соединяется с базой, настраивает параметры\n",
    "соединения, создаёт курсор и возвращает его."
   ]
  },
  {
   "cell_type": "code",
   "execution_count": 5,
   "metadata": {},
   "outputs": [],
   "source": [
    "    def init_connect(conn_string: \"PostgreSQL connection string\") -> psycopg2.extensions.cursor:\n",
    "        \"\"\"Connect to DB using connection string from 1st parameter. Return the cursor\"\"\"\n",
    "        db_conn = psycopg2.connect(conn_string)\n",
    "        cursor = None\n",
    "        if db_conn:\n",
    "            db_conn.set_session(readonly=True,autocommit=True)\n",
    "            cursor = db_conn.cursor()\n",
    "        return cursor"
   ]
  },
  {
   "cell_type": "markdown",
   "metadata": {},
   "source": [
    "Связываемся с базой для того, чтобы отправлять в неё запросы:"
   ]
  },
  {
   "cell_type": "code",
   "execution_count": 6,
   "metadata": {},
   "outputs": [],
   "source": [
    "cursor = init_connect(DB_CONNECT_STRING)"
   ]
  },
  {
   "cell_type": "markdown",
   "metadata": {},
   "source": [
    "И мы уже можем посчитать конверсию по пользвователям разных уровней сложности:"
   ]
  },
  {
   "cell_type": "code",
   "execution_count": 7,
   "metadata": {},
   "outputs": [
    {
     "name": "stdout",
     "output_type": "stream",
     "text": [
      "===== SQL Query for conversion rate =====\n",
      "with users_2017 as (\n",
      "        SELECT DISTINCT user_id\n",
      "    FROM case8.events\n",
      "    WHERE event_type = 'registration'\n",
      "    AND start_time BETWEEN '2017-01-01' AND '2018-01-01'\n",
      "\n",
      "), events_2017 as (\n",
      "    select * from case8.events\n",
      "    inner join\n",
      "    users_2017\n",
      "    using (user_id)\n",
      "), purchases_2017 as (\n",
      "    select * from case8.purchase\n",
      "    inner join\n",
      "    users_2017\n",
      "    using (user_id)\n",
      ") \n",
      "select\n",
      "    selected_level,\n",
      "    count(user_id) as users,\n",
      "    count(amount)  as buyers,\n",
      "    sum(amount)    as revenue,\n",
      "    count(amount)*1.0/count(user_id) as \"conversion\",\n",
      "    avg(amount)    as avg_check\n",
      "from\n",
      "    events_2017\n",
      "    left join\n",
      "    purchases_2017\n",
      "    using (user_id)\n",
      "where events_2017.event_type = 'level_choice'\n",
      "group by selected_level\n",
      "order by conversion desc;\n",
      "\n",
      "--------------------------------------------------------------------------------\n",
      "        users  buyers  revenue conversion  avg_check\n",
      "level                                               \n",
      "hard     1249     442    49325     35.39%  111.60 р.\n",
      "medium   4645     969   106125     20.86%  109.52 р.\n",
      "easy     2448     189    21725      7.72%  114.95 р.\n"
     ]
    }
   ],
   "source": [
    "    curr_cte = 'with ' + ', '.join((USERS17_CTE, EVENTS17_CTE, PURCHASES17_CTE))\n",
    "\n",
    "    lvl_req_template = \"\"\"\n",
    "    select\n",
    "        selected_level,\n",
    "        count(user_id) as users,\n",
    "        count(amount)  as buyers,\n",
    "        sum(amount)    as revenue,\n",
    "        count(amount)*1.0/count(user_id) as \"conversion\",\n",
    "        avg(amount)    as avg_check\n",
    "    from\n",
    "        events_2017\n",
    "        left join\n",
    "        purchases_2017\n",
    "        using (user_id)\n",
    "    where events_2017.event_type = 'level_choice'\n",
    "    group by selected_level\n",
    "    order by conversion desc;\n",
    "    \"\"\"\n",
    "    conversion_request = curr_cte + \" \" + lvl_req_template\n",
    "    \n",
    "    # Здесь я один раз распечтаю сгенерированный запрос, просто для того, чтобы было видно, что\n",
    "    # запрашивается у СУБД\n",
    "    print(\"===== SQL Query for conversion rate =====\\n{}\\n{}\".format(conversion_request, 80 * '-'))\n",
    "    \n",
    "    cursor.execute(conversion_request)\n",
    "    ret = cursor.fetchall()\n",
    "    conv_df = pd.DataFrame.from_records(ret, columns=('level', 'users', 'buyers', 'revenue', 'conversion', 'avg_check'), index='level')\n",
    "    print(conv_df.to_string(formatters={'conversion': '{:.2%}'.format, 'avg_check': '{:.2f} р.'.format}))"
   ]
  },
  {
   "cell_type": "markdown",
   "metadata": {},
   "source": [
    "В результате выводится табличка:\n",
    "\n",
    "| level  |  users|  buyers|  revenue|  conversion|  avg\\_check|\n",
    "|:-------|------:|-------:|--------:|-----------:|-----------:|\n",
    "| hard   |   1249|     442|    49235|      35.39%|   111.60 р.|\n",
    "| medium |   4645|     969|   106125|      20.86%|   109.52 р.|\n",
    "| easy   |   2448|     189|    21725|       7.72%|   114.95 р.|\n",
    "\n",
    "### Вывод по первому вопросу:\n",
    "\n",
    "Существует зависимость между уровнем сложности и конверсией.\n",
    "Пользователи, которые выбирают уровни *hard* и *medium*, чаще оплачивают\n",
    "тренировки. При этом больше всего прибыли приносят пользователи уровня\n",
    "*medium* за счёт большего числа таких пользователей.\n",
    "\n",
    "Зависимости между средним чеком и уровнем сложности тренировок не\n",
    "обнаружено.\n",
    "\n",
    "Исследование временных промежутков между выбором уровня и оплатой.\n",
    "------------------------------------------------------------------\n",
    "\n",
    "Нужно построить представление, в котором будет колонки: `user_id`,\n",
    "`selected_level`, `level_choice_time_stamp`, `purchase_time_stamp`,\n",
    "`time_difference`. Названия говорят сами за себя. Для этого объединим\n",
    "CTE `events_2017` и `purchases_2017` через INNER JOIN по полю `user_id`,\n",
    "тогда останутся только покупатели."
   ]
  },
  {
   "cell_type": "code",
   "execution_count": 8,
   "metadata": {},
   "outputs": [
    {
     "name": "stdout",
     "output_type": "stream",
     "text": [
      "User ID  Level    Lvl choice time         Purchase time           Interval            \n",
      "-------------------------------------------------------------------------------------\n",
      "37878\tmedium\t2017-06-26 16:30:03\t2017-06-30 17:05:21\t4 days, 0:35:18\n",
      "33243\tmedium\t2017-03-30 16:26:53\t2017-04-05 04:24:30\t5 days, 11:57:37\n",
      "28879\tmedium\t2017-01-23 19:07:04\t2017-01-25 18:07:13\t1 day, 23:00:09\n",
      "40812\thard\t2017-09-06 11:44:24\t2017-09-14 10:15:49\t7 days, 22:31:25\n",
      "36694\tmedium\t2017-06-05 19:27:53\t2017-06-09 07:27:41\t3 days, 11:59:48\n"
     ]
    }
   ],
   "source": [
    "    curr_cte = 'with ' + ', '.join((USERS17_CTE, EVENTS17_CTE, PURCHASES17_CTE))\n",
    "\n",
    "    cursor.execute(curr_cte + \"\"\"\n",
    "    select \n",
    "        user_id,\n",
    "        selected_level,\n",
    "        lc.start_time as level_choice_ts,\n",
    "        pur.start_time as purchase_ts,\n",
    "        (pur.start_time - lc.start_time) as time_diff\n",
    "    from\n",
    "        events_2017 as lc\n",
    "        inner join\n",
    "        purchases_2017 as pur\n",
    "        using(user_id)\n",
    "        where lc.event_type='level_choice'\n",
    "    limit 5;\n",
    "    \"\"\")\n",
    "    ret = cursor.fetchall()\n",
    "\n",
    "    # И это немножко замороченное выражение печатает пример данных после фильтрации и объединения\n",
    "    # Проще было преобразовать результаты запроса  в датафрейм и напечатать средствами Pandas.\n",
    "    print(\"{0:8s} {1:8s} {2:23s} {3:23s} {4:20s}\\n{5}\".format(\n",
    "            \"User ID\", \"Level\", \"Lvl choice time\", \"Purchase time\", \"Interval\", '-'*85\n",
    "         ))\n",
    "    print('\\n'.join(['\\t'.join([str(f) for f in l]) for l in ret]))"
   ]
  },
  {
   "cell_type": "markdown",
   "metadata": {},
   "source": [
    "Выражение, которое выбирает данные, построено, осталось их сгруппировать\n",
    "и посчитать средние значения."
   ]
  },
  {
   "cell_type": "code",
   "execution_count": 9,
   "metadata": {},
   "outputs": [
    {
     "name": "stdout",
     "output_type": "stream",
     "text": [
      "                Avg. Interval\n",
      "Level                        \n",
      "hard   3 days 07:20:41.420815\n",
      "easy   3 days 14:58:52.941799\n",
      "medium 3 days 23:14:13.165119\n"
     ]
    }
   ],
   "source": [
    "    cursor.execute(curr_cte + \"\"\"\n",
    "    select lc.selected_level,  avg(pur.start_time - lc.start_time) as avg_time_diff\n",
    "    from\n",
    "        events_2017 as lc\n",
    "        inner join\n",
    "        purchases_2017 as pur\n",
    "        using(user_id)\n",
    "    where event_type='level_choice'\n",
    "    group by selected_level\n",
    "    order by avg_time_diff;\n",
    "    \"\"\")\n",
    "    ret = cursor.fetchall()\n",
    "\n",
    "    avg_intervals_by_lvl = pd.DataFrame.from_records(ret, columns=('Level', 'Avg. Interval'), index='Level')\n",
    "    print(avg_intervals_by_lvl)"
   ]
  },
  {
   "cell_type": "markdown",
   "metadata": {},
   "source": [
    "Мы видим, что в среднем покупатель, выбравший уровень *medium*, думает\n",
    "над покупкой на 16 часов дольше, чем выбравший уровень *hard*, а\n",
    "покупатели уровня *easy* занимают промежуточное положение.\n",
    "\n",
    "Среднее даёт нам ограниченную информацию, было бы интереснее сравнить\n",
    "распределение интервалов между выбором уровня и покупкой для разных\n",
    "уровней. Для этого вспомним, что покупателей не так уж и много, и\n",
    "сделаем выборку данных в таблице “уровень-интервал” для каждого из них.\n",
    "Практически это предыдущий запрос, но без группировки."
   ]
  },
  {
   "cell_type": "code",
   "execution_count": 10,
   "metadata": {},
   "outputs": [],
   "source": [
    "    cursor.execute(curr_cte + \"\"\"\n",
    "    select lc.selected_level,  (pur.start_time - lc.start_time) as avg_time_diff\n",
    "    from\n",
    "        events_2017 as lc\n",
    "        inner join\n",
    "        purchases_2017 as pur\n",
    "        using(user_id)\n",
    "    where event_type='level_choice';\n",
    "    \"\"\")\n",
    "\n",
    "    ret = cursor.fetchall()\n",
    "\n",
    "    tdiff_by_lvl = pd.DataFrame.from_records(ret, columns=('level', 'tdiff'))\n",
    "    tdiff_by_lvl.loc[:,'level'] = tdiff_by_lvl.level.astype('category')"
   ]
  },
  {
   "cell_type": "markdown",
   "metadata": {},
   "source": [
    "Если бы данных было действительно много, можно было бы расчитать в СУБД\n",
    "персентили с интервалом, например, 5%, и построить график по ним.\n",
    "\n",
    "Данные собраны, осталось их визуализировать. Тут есть сложности, потому\n",
    "что тип данных `timedelta64[ns]` не совсем числовой.\n",
    "\n",
    "На\n",
    "[StackOverflow](https://stackoverflow.com/questions/23543909/plotting-pandas-timedelta)\n",
    "подсказывают, что можно преобразовать интервалы в какую-нибудь единицу\n",
    "времени. Здесь наносекундная точность не нужна, округления до целых часов вполне достаточно:"
   ]
  },
  {
   "cell_type": "code",
   "execution_count": 11,
   "metadata": {},
   "outputs": [
    {
     "data": {
      "image/png": "[encoded data removed]",
      "text/plain": [
       "<Figure size 576x432 with 1 Axes>"
      ]
     },
     "metadata": {},
     "output_type": "display_data"
    }
   ],
   "source": [
    "    fig = plt.figure(figsize=(8,6))\n",
    "    fig.suptitle('Интервал между выбором уровня сложности и покупкой для разных уровней сложности')\n",
    "    ax = fig.add_axes((0.1, 0.1, 0.9, 0.8))\n",
    "    td = tdiff_by_lvl.copy()\n",
    "    td.loc[:,'tdiff'] = td.tdiff.astype('timedelta64[h]')\n",
    "    ax = sns.boxplot(x='level', y='tdiff', data=td, ax=ax)\n",
    "    ax.set_xlabel(\"Уровень сложности\")\n",
    "    ax.set_ylabel(\"Время до покупки, часов\")\n",
    "    __ = ax.set_yticks([24*days for days in range(0,12)])\n",
    "    # fig.show()"
   ]
  },
  {
   "cell_type": "markdown",
   "metadata": {},
   "source": [
    "### Выводы по временным промежуткам\n",
    "\n",
    "Как видим, покупатели уровня *medium* склонны думать над покупкой\n",
    "дольше. Кроме того, в этой группе разброс времени принятия решения о\n",
    "покупке максимален.\n",
    "\n",
    "Обращаю внимание на то, что 75% пользователей принимают решение о\n",
    "покупке платных тренировок не ранее, чем на вторые-третьи сутки после\n",
    "выбора уровня. Возможно, интервал с 36 до 48 часов с выбора уровня будет\n",
    "хорошим моментом для спецпредложений, акций и подобных усилий по\n",
    "продвижению платных тренировок."
   ]
  },
  {
   "cell_type": "markdown",
   "metadata": {},
   "source": [
    "Дополнительно: оценить время от регистрации до оплаты для покупателей, выбравших разный уровень сложности\n",
    "---------------------------------------------------------------------------------------------------------\n",
    "\n",
    "Сделаем запрос в базу для получения таблицы времён по покупателям и\n",
    "уровням сложности, затем расчитаем средние значения для уровней\n",
    "сложности."
   ]
  },
  {
   "cell_type": "code",
   "execution_count": 12,
   "metadata": {},
   "outputs": [
    {
     "name": "stdout",
     "output_type": "stream",
     "text": [
      "level\n",
      "easy       93.629630\n",
      "hard       86.416290\n",
      "medium    101.702786\n",
      "Name: tdiff, dtype: float64\n"
     ]
    }
   ],
   "source": [
    "    cursor.execute(curr_cte + \"\"\" \n",
    "    select  \n",
    "        user_id, lc.selected_level,  (pur.start_time - reg.start_time) as reg_time_diff \n",
    "    from \n",
    "        (select user_id, selected_level, start_time from events_2017 where event_type='level_choice') as lc \n",
    "        inner join \n",
    "        purchases_2017 as pur \n",
    "        using(user_id) \n",
    "        inner join \n",
    "        (select user_id, start_time from events_2017 where event_type='registration') as reg \n",
    "        using (user_id) \n",
    "    \"\"\") \n",
    "     \n",
    "    ret = cursor.fetchall() \n",
    "    fromreg_by_lvl = pd.DataFrame.from_records(ret, columns=('uid', 'level', 'tdiff'), index='uid')\n",
    "    fromreg_by_lvl.loc[:,'level'] = fromreg_by_lvl.level.astype('category')\n",
    "\n",
    "    # Выведем средние по уровням сложности времена от регистрации до оплаты\n",
    "    td1 = fromreg_by_lvl.copy()\n",
    "    td1.loc[:,'tdiff'] = td1.tdiff.astype('timedelta64[h]')\n",
    "    print(td1.groupby('level')['tdiff'].mean())"
   ]
  },
  {
   "cell_type": "markdown",
   "metadata": {},
   "source": [
    "Средние дают не слишком много информации, интереснее в виде боксплота:"
   ]
  },
  {
   "cell_type": "code",
   "execution_count": 13,
   "metadata": {},
   "outputs": [
    {
     "data": {
      "image/png": "[encoded data removed]",
      "text/plain": [
       "<Figure size 576x432 with 1 Axes>"
      ]
     },
     "metadata": {},
     "output_type": "display_data"
    }
   ],
   "source": [
    "    fig = plt.figure(figsize=(8,6))\n",
    "    fig.suptitle('Интервал между регистрацией и покупкой для разных уровней сложности')\n",
    "    ax = fig.add_axes((0.1, 0.1, 0.9, 0.8))\n",
    "    ax = sns.boxplot(x='level', y='tdiff', data=td1, ax=ax)\n",
    "    ax.set_xlabel(\"Уровень сложности\")\n",
    "    ax.set_ylabel(\"Время от регистрации до покупки, часов\")\n",
    "    __ = ax.set_yticks([24*days for days in range(0,12)])\n",
    "    # fig.show()"
   ]
  },
  {
   "cell_type": "markdown",
   "metadata": {},
   "source": [
    "Как и в случае интервала от регистрации до оплаты, самые неторопливые\n",
    "пользователи это те, кто выбирает уровень *medium*. Возможно, есть\n",
    "способ поторопить их с оплатой, особенно ту четверть этих пользователей,\n",
    "которая думает больше 6 дней (144+ часа).\n",
    "\n",
    "Уровень *hard* демонстрирует относительно быстрый переход к оплате, для\n",
    "почти 75% покупателей этот процесс занимает до 5 дней.\n",
    "\n",
    "Уровень *easy* занимает промежуточное положение.\n",
    "\n",
    "Выводы по исследованию в целом\n",
    "------------------------------\n",
    "\n",
    "* Выбранный пользователем уровень сложности очень заметно влияет на\n",
    "  конверсию пользователей в покупателей — чем сложнее уровень, тем\n",
    "  вероятнее оплата. Конверсия на уровне *easy* мала, на *medium* она\n",
    "  превышает 20%, и на уровне *hard* свыше 35%.\n",
    "\n",
    "* Влияние уровня сложности на промежуток времени от выбора уровня до\n",
    "  оплаты или от регистрации до оплаты не столь заметно, хотя присутствует.\n",
    "  Медленнее всех принимают решение об оплате пользователи, выбравшие\n",
    "  уровень *medium*, быстрее всех — *hard*. Кроме того, на уровне *medium*\n",
    "  максимальный разброс времени принятия решения об оплате."
   ]
  }
 ],
 "metadata": {
  "kernelspec": {
   "display_name": "Python 3",
   "language": "python",
   "name": "python3"
  },
  "language_info": {
   "codemirror_mode": {
    "name": "ipython",
    "version": 3
   },
   "file_extension": ".py",
   "mimetype": "text/x-python",
   "name": "python",
   "nbconvert_exporter": "python",
   "pygments_lexer": "ipython3",
   "version": "3.8.0"
  }
 },
 "nbformat": 4,
 "nbformat_minor": 5
}
